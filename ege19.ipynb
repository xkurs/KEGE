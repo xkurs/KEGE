{
 "cells": [
  {
   "attachments": {},
   "cell_type": "markdown",
   "metadata": {},
   "source": [
    "## Задание 19.  \n",
    "Два игрока, Петя и Ваня, играют в следующую игру.  \n",
    "Перед игроками лежит куча камней.  \n",
    "Игроки ходят по очереди, первый ход делает Петя.  \n",
    "За один ход игрок может добавить в кучу два камня, добавить в кучу три камня или увеличить количество камней в куче в два раза.  \n",
    "Например, имея кучу из 15 камней, за один ход можно получить кучу из 17, 18 или 30 камней.  \n",
    "У каждого игрока, чтобы делать ходы, есть неограниченное количество камней.  \n",
    "Игра завершается в тот момент, когда количество камней в куче становится не менее 30.  \n",
    "Победителем считается игрок, сделавший последний ход, то есть первым получивший кучу, в которой будет 30 или больше камней.  \n",
    "В начальный момент в куче было S камней, 1 ≤ S ≤ 29.  \n",
    "Найдите минимальное значение S, при котором Ваня выигрывает своим первым ходом при любой игре Пети?"
   ]
  },
  {
   "cell_type": "code",
   "execution_count": 16,
   "metadata": {},
   "outputs": [
    {
     "name": "stdout",
     "output_type": "stream",
     "text": [
      "s= 7, moves= 3\n",
      "s= 8, moves= 4\n",
      "s= 9, moves= 4\n",
      "s= 10, moves= 3\n",
      "s= 11, moves= 3\n",
      "s= 12, moves= 3\n",
      "s= 13, moves= 2\n",
      "s= 14, moves= 2\n",
      "s= 15, moves= 1\n",
      "s= 16, moves= 1\n",
      "s= 17, moves= 1\n",
      "s= 18, moves= 1\n",
      "s= 19, moves= 1\n",
      "s= 20, moves= 1\n",
      "s= 21, moves= 1\n",
      "s= 22, moves= 1\n",
      "s= 23, moves= 1\n",
      "s= 24, moves= 1\n",
      "s= 25, moves= 1\n",
      "s= 26, moves= 1\n",
      "s= 27, moves= 1\n",
      "s= 28, moves= 1\n",
      "s= 29, moves= 1\n"
     ]
    }
   ],
   "source": [
    "# Функция проверяет, можно ли выиграть за moves ходов\n",
    "def f(s,move,moves):\n",
    "\n",
    "    # Если игра окончена, то ход move должен иметь ту же четность, что и moves\n",
    "    if s >= 30: return move%2 == moves%2\n",
    "\n",
    "    # Если игра  не окончилась за moves ходов, то мы отбрасываем эти варианты\n",
    "    if move == moves: return 0\n",
    "\n",
    "    # Строим список следующих ходов\n",
    "    h = [f(s+2,move+1,moves), \n",
    "         f(s+3,move+1,moves), \n",
    "         f(s*2,move+1,moves)]\n",
    "\n",
    "    # Если это ход выигрывающего игрока, то достаточно победы в одном из вариантов,\n",
    "    # иначе должны подходить все варианты (победа во всех вариантах)\n",
    "    return any(h) if (move+1)%2 ==moves%2 else all(h)\n",
    "\n",
    "\n",
    "for s in range(1, 30):\n",
    "    for moves in range(1,5): # достаточно от 1 до 5, так как глубина игры до 4 ходов\n",
    "        if f(s,0,moves) == 1:\n",
    "            print(f\"s= {s}, moves= {moves}\")\n",
    "            break  # если нашлась выигрышная стратегия \n"
   ]
  }
 ],
 "metadata": {
  "kernelspec": {
   "display_name": "Python 3",
   "language": "python",
   "name": "python3"
  },
  "language_info": {
   "codemirror_mode": {
    "name": "ipython",
    "version": 3
   },
   "file_extension": ".py",
   "mimetype": "text/x-python",
   "name": "python",
   "nbconvert_exporter": "python",
   "pygments_lexer": "ipython3",
   "version": "3.10.5"
  },
  "orig_nbformat": 4,
  "vscode": {
   "interpreter": {
    "hash": "e876daec862956c32cdb8efc282e3454978d221baa9883ca36b8b1a1935f01d6"
   }
  }
 },
 "nbformat": 4,
 "nbformat_minor": 2
}
