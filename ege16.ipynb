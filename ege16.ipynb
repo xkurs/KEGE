{
  "cells": [
    {
      "cell_type": "markdown",
      "id": "statistical-dispute",
      "metadata": {
        "id": "statistical-dispute"
      },
      "source": [
        "## Задание 16 (повышенный уровень, время – 5 мин)  \n",
        "Тема:  Рекурсия. Рекурсивные процедуры и функции  \n",
        "\n",
        "Что проверяется:  \n",
        "Вычисление рекуррентных выражений  \n",
        "1.5.3.  Индуктивное определение объектов.  \n",
        "1.1.3. Умение строить информационные модели объектов, систем и процессов в виде алгоритмов.  \n",
        "\n",
        "Что нужно знать:  \n",
        "•\tдля того, чтобы задать рекурсивную функцию, нужно определить  \n",
        "\n",
        "1)\tусловие окончания рекурсии, то есть значения параметров функции, для которых значение функции известно или вычисляется без рекурсивных вызовов;  \n",
        "2)\tрекуррентную формулу (или формулы), с помощью которых значение функции для заданных значений параметров вычисляется через значение (или значения) функции для других значений параметров (то есть, с помощью рекурсивных вызовов)  \n",
        "\n",
        "•\tзадачи, в которых требуется найти значение заданной рекурсивной функции при известных значениях параметров можно решать с помощью ручных вычислений, используя электронные таблицы или с помощью своей программы; последние два способа обычно более эффективны   "
      ]
    },
    {
      "cell_type": "markdown",
      "id": "6adc27e3",
      "metadata": {},
      "source": [
        "20)\tАлгоритм вычисления функций F(n) и G(n) задан следующими соотношениями:  \n",
        "\n",
        "\t\tF(1) = G(1) = 1  \n",
        "\t\tF(n) = 3·F(n–1) + G(n–1) – n + 5, если n > 1  \n",
        "\t\tG(n) = F(n–1) + 3·G(n–1) – 3·n, если n > 1  \n",
        "\n",
        "Чему равно значение F(14) + G(14)?"
      ]
    },
    {
      "cell_type": "code",
      "execution_count": 1,
      "id": "b42fed39",
      "metadata": {},
      "outputs": [
        {
          "ename": "SyntaxError",
          "evalue": "invalid character '–' (U+2013) (Temp/ipykernel_13820/555716242.py, line 5)",
          "output_type": "error",
          "traceback": [
            "\u001b[1;36m  File \u001b[1;32m\"C:\\Users\\Vladimir\\AppData\\Local\\Temp/ipykernel_13820/555716242.py\"\u001b[1;36m, line \u001b[1;32m5\u001b[0m\n\u001b[1;33m    return 3*F(n-1) + G(n–1) – n + 5\u001b[0m\n\u001b[1;37m                         ^\u001b[0m\n\u001b[1;31mSyntaxError\u001b[0m\u001b[1;31m:\u001b[0m invalid character '–' (U+2013)\n"
          ]
        }
      ],
      "source": [
        "def F(n):\n",
        "    if n == 1:\n",
        "        return 1\n",
        "    if n>1:\n",
        "        return 3*F(n-1) + G(n–1) – n + 5\n",
        "\n",
        "def G(n):\n",
        "    if n == 1:\n",
        "        return 1\n",
        "    if n>1:\n",
        "        return F(n-1) + 3*G(n–1) – 3*n\n",
        "\n",
        "print(F(14)+G(14))"
      ]
    }
  ],
  "metadata": {
    "colab": {
      "include_colab_link": true,
      "name": "EGE-2021.ipynb",
      "provenance": []
    },
    "kernelspec": {
      "display_name": "Python 3",
      "language": "python",
      "name": "python3"
    },
    "language_info": {
      "codemirror_mode": {
        "name": "ipython",
        "version": 3
      },
      "file_extension": ".py",
      "mimetype": "text/x-python",
      "name": "python",
      "nbconvert_exporter": "python",
      "pygments_lexer": "ipython3",
      "version": "3.9.2"
    }
  },
  "nbformat": 4,
  "nbformat_minor": 5
}
